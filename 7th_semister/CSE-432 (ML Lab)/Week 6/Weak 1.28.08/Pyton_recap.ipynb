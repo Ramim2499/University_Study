{
 "nbformat": 4,
 "nbformat_minor": 0,
 "metadata": {
  "colab": {
   "provenance": [],
   "authorship_tag": "ABX9TyN8HsZ/BFgxlIPrNy4QpBVT"
  },
  "kernelspec": {
   "name": "python3",
   "display_name": "Python 3 (ipykernel)",
   "language": "python"
  },
  "language_info": {
   "name": "python"
  }
 },
 "cells": [
  {
   "cell_type": "code",
   "execution_count": 5,
   "metadata": {
    "colab": {
     "base_uri": "https://localhost:8080/"
    },
    "id": "x6L1jpJBgDaV",
    "executionInfo": {
     "status": "ok",
     "timestamp": 1724824023343,
     "user_tz": -360,
     "elapsed": 5416,
     "user": {
      "displayName": "Md. Shakibul Islam Ramim",
      "userId": "15322858999001050875"
     }
    },
    "outputId": "d731fd64-7e2f-4284-910d-186cfcceb2b0"
   },
   "outputs": [
    {
     "output_type": "stream",
     "name": "stdout",
     "text": [
      "Enter a number: 5\n",
      "Enter another number: 5\n",
      "The answe is: 10\n"
     ]
    }
   ],
   "source": [
    "a = int(input(('Enter a number: ')))\n",
    "b = int(input(('Enter another number: ')))\n",
    "sum = a + b\n",
    "print('The answe is:',sum)"
   ]
  },
  {
   "cell_type": "code",
   "source": [
    "a = int(input('Enter a number: '))\n",
    "if a>5:\n",
    "  print('Bigger then 5')\n",
    "elif a==5:\n",
    "  print('Equal to 5')\n",
    "else:\n",
    "  print('Less then 5')\n",
    "\n",
    "print(type(a))"
   ],
   "metadata": {
    "colab": {
     "base_uri": "https://localhost:8080/"
    },
    "id": "8MHayr1DhW5r",
    "executionInfo": {
     "status": "ok",
     "timestamp": 1724824378042,
     "user_tz": -360,
     "elapsed": 4230,
     "user": {
      "displayName": "Md. Shakibul Islam Ramim",
      "userId": "15322858999001050875"
     }
    },
    "outputId": "d901cc5c-e8da-4b0c-9709-efa1510c138f"
   },
   "execution_count": 13,
   "outputs": [
    {
     "output_type": "stream",
     "name": "stdout",
     "text": [
      "Enter a number: 5\n",
      "Equal to 5\n",
      "<class 'int'>\n"
     ]
    }
   ]
  },
  {
   "cell_type": "code",
   "source": [
    "a = int(input('Enter a number: '))\n",
    "if a>5:\n",
    "  print(a, 'then 5')\n",
    "elif a==5:\n",
    "  print(str(a)+'is Equal to 5')\n",
    "else:\n",
    "  print(f'{a} Less then 5')\n",
    "\n",
    "print(type(a))"
   ],
   "metadata": {
    "colab": {
     "base_uri": "https://localhost:8080/"
    },
    "id": "HGKS-RpKhsE4",
    "executionInfo": {
     "status": "ok",
     "timestamp": 1724824807024,
     "user_tz": -360,
     "elapsed": 4807,
     "user": {
      "displayName": "Md. Shakibul Islam Ramim",
      "userId": "15322858999001050875"
     }
    },
    "outputId": "e5f29696-2b77-46a5-f36f-d1dd886218ac"
   },
   "execution_count": 16,
   "outputs": [
    {
     "output_type": "stream",
     "name": "stdout",
     "text": [
      "Enter a number: 5\n",
      "5Equal to 5\n",
      "<class 'int'>\n"
     ]
    }
   ]
  },
  {
   "cell_type": "code",
   "source": [
    "for i in range(1,6,2):\n",
    "  print(i)"
   ],
   "metadata": {
    "colab": {
     "base_uri": "https://localhost:8080/"
    },
    "id": "L7jPbH-UkZKa",
    "executionInfo": {
     "status": "ok",
     "timestamp": 1724825368563,
     "user_tz": -360,
     "elapsed": 615,
     "user": {
      "displayName": "Md. Shakibul Islam Ramim",
      "userId": "15322858999001050875"
     }
    },
    "outputId": "748782a2-e495-47a4-afcf-dc4b21e6616b"
   },
   "execution_count": 19,
   "outputs": [
    {
     "output_type": "stream",
     "name": "stdout",
     "text": [
      "1\n",
      "3\n",
      "5\n"
     ]
    }
   ]
  },
  {
   "cell_type": "code",
   "source": [
    "a = 5\n",
    "ans = 1\n",
    "for i in range(1,a+1):\n",
    "  ans=ans*i\n",
    "print(ans)"
   ],
   "metadata": {
    "colab": {
     "base_uri": "https://localhost:8080/"
    },
    "id": "nqOMwlfpmQiy",
    "executionInfo": {
     "status": "ok",
     "timestamp": 1724826298305,
     "user_tz": -360,
     "elapsed": 597,
     "user": {
      "displayName": "Md. Shakibul Islam Ramim",
      "userId": "15322858999001050875"
     }
    },
    "outputId": "02635446-ce23-4c5e-fd56-d618965f9517"
   },
   "execution_count": 28,
   "outputs": [
    {
     "output_type": "stream",
     "name": "stdout",
     "text": [
      "120\n"
     ]
    }
   ]
  },
  {
   "cell_type": "code",
   "source": [
    "import math as mt\n",
    "print(mt.factorial(5))"
   ],
   "metadata": {
    "colab": {
     "base_uri": "https://localhost:8080/"
    },
    "id": "knaSaPDmqKIp",
    "executionInfo": {
     "status": "ok",
     "timestamp": 1724826470131,
     "user_tz": -360,
     "elapsed": 599,
     "user": {
      "displayName": "Md. Shakibul Islam Ramim",
      "userId": "15322858999001050875"
     }
    },
    "outputId": "39c21c5b-b0d0-42da-f013-d35819a91959"
   },
   "execution_count": 31,
   "outputs": [
    {
     "output_type": "stream",
     "name": "stdout",
     "text": [
      "120\n"
     ]
    }
   ]
  },
  {
   "cell_type": "code",
   "source": [
    "a = [2,4,'This is a sting', [6,7,8], True]\n",
    "print(a)"
   ],
   "metadata": {
    "colab": {
     "base_uri": "https://localhost:8080/"
    },
    "id": "q9eg0cXsq0Fj",
    "executionInfo": {
     "status": "ok",
     "timestamp": 1724826534250,
     "user_tz": -360,
     "elapsed": 611,
     "user": {
      "displayName": "Md. Shakibul Islam Ramim",
      "userId": "15322858999001050875"
     }
    },
    "outputId": "b259a30d-5132-4905-c82d-b61fa43ab6d9"
   },
   "execution_count": 32,
   "outputs": [
    {
     "output_type": "stream",
     "name": "stdout",
     "text": [
      "[2, 4, 'This is a sting', [6, 7, 8], True]\n"
     ]
    }
   ]
  },
  {
   "cell_type": "code",
   "source": [
    "a = [2,4,'This is a sting', [6,7,8], True]\n",
    "for i in a:\n",
    "  print(i)"
   ],
   "metadata": {
    "colab": {
     "base_uri": "https://localhost:8080/"
    },
    "id": "mNE8rqlLrDrj",
    "executionInfo": {
     "status": "ok",
     "timestamp": 1724826745538,
     "user_tz": -360,
     "elapsed": 594,
     "user": {
      "displayName": "Md. Shakibul Islam Ramim",
      "userId": "15322858999001050875"
     }
    },
    "outputId": "d53d97ce-21b6-4fab-bf4f-bd9e020c0f53"
   },
   "execution_count": 36,
   "outputs": [
    {
     "output_type": "stream",
     "name": "stdout",
     "text": [
      "2\n",
      "4\n",
      "This is a sting\n",
      "[6, 7, 8]\n",
      "True\n"
     ]
    }
   ]
  },
  {
   "cell_type": "code",
   "source": [
    "d = {\n",
    "    1:\"One\",\n",
    "    2:\"Two\"\n",
    "}\n",
    "print(d[2])\n",
    "print(d.keys())\n",
    "print(d.values())"
   ],
   "metadata": {
    "colab": {
     "base_uri": "https://localhost:8080/"
    },
    "id": "paN1aw3Sr3T5",
    "executionInfo": {
     "status": "ok",
     "timestamp": 1724826883202,
     "user_tz": -360,
     "elapsed": 607,
     "user": {
      "displayName": "Md. Shakibul Islam Ramim",
      "userId": "15322858999001050875"
     }
    },
    "outputId": "dd27095b-6171-4185-d7af-9784c6a8901b"
   },
   "execution_count": 40,
   "outputs": [
    {
     "output_type": "stream",
     "name": "stdout",
     "text": [
      "Two\n",
      "dict_keys([1, 2])\n",
      "dict_values(['One', 'Two'])\n"
     ]
    }
   ]
  },
  {
   "cell_type": "code",
   "source": [
    " s = \"Ostad \"\n",
    " print(s * 3)"
   ],
   "metadata": {
    "id": "fir_nqulsAjh",
    "ExecuteTime": {
     "end_time": "2024-08-29T14:29:13.544366Z",
     "start_time": "2024-08-29T14:29:13.535174Z"
    }
   },
   "outputs": [
    {
     "name": "stdout",
     "output_type": "stream",
     "text": [
      "Ostad Ostad Ostad \n"
     ]
    }
   ],
   "execution_count": 1
  }
 ]
}
